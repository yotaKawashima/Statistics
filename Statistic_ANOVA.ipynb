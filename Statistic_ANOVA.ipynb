{
 "cells": [
  {
   "cell_type": "markdown",
   "metadata": {},
   "source": [
    "# Statistics notebook\n",
    "\n",
    "This notebook will explain the basic statistics. "
   ]
  },
  {
   "cell_type": "code",
   "execution_count": 1,
   "metadata": {},
   "outputs": [],
   "source": [
    "# Import libraries \n",
    "import numpy as np\n",
    "import matplotlib.pyplot as plt\n",
    "import scipy.stats as stats\n",
    "import math\n"
   ]
  },
  {
   "cell_type": "markdown",
   "metadata": {},
   "source": [
    "## Ideal\n",
    "\n",
    "First plot a distribution of Population data (Here, let's say people's height). Here assume that the population data has a normal distribution with population mean=10 and population standard deviation=5.\n",
    "\n",
    "*Generally, population mean and population standard deviation will not be computed in experimental data. To compute these value, you need to collect all data in the population."
   ]
  },
  {
   "cell_type": "code",
   "execution_count": 2,
   "metadata": {},
   "outputs": [
    {
     "data": {
      "image/png": "[encoded data removed]",
      "text/plain": [
       "<matplotlib.figure.Figure at 0x7f31ecc2a8d0>"
      ]
     },
     "metadata": {
      "needs_background": "light"
     },
     "output_type": "display_data"
    }
   ],
   "source": [
    "# Set population properties\n",
    "Pmean = 170# Mean of population data (this will not be computed in experimental data because you cannot have all individual data for this)\n",
    "PSD = 10 # Population standard deviation (this will not be computed in experimental data as well)\n",
    "\n",
    "# Plot histogram for population data \n",
    "x = np.linspace(Pmean - 3.5*PSD, Pmean + 3.5*PSD, 100) \n",
    "plt.plot(x, stats.norm.pdf(x, Pmean, PSD), color='k')\n",
    "\n",
    "plt.axvline(x=Pmean + PSD, color='b', linestyle='--')\n",
    "plt.axvline(x=Pmean - PSD, color='b', linestyle='--')\n",
    "plt.text(180.5, 0.025, '68.26%', color='b')\n",
    "\n",
    "plt.axvline(x=Pmean + 2*PSD, color='r', linestyle='--')\n",
    "plt.axvline(x=Pmean - 2*PSD, color='r', linestyle='--')\n",
    "plt.text(190.5, 0.020, '95.44%', color='r')\n",
    "\n",
    "plt.axvline(x=Pmean + 3*PSD, color='y', linestyle='--')\n",
    "plt.axvline(x=Pmean - 3*PSD, color='y', linestyle='--')\n",
    "plt.text(200.5, 0.015, '99.72%', color='y')\n",
    "\n",
    "plt.show()"
   ]
  },
  {
   "cell_type": "markdown",
   "metadata": {},
   "source": [
    "## Real \n",
    "\n",
    "In a real situaion (experiment), we don't have the above distribution. Also, it is almost impossible to get the distribution by measuring heights of all people in the world. So we collect some data (sample) and estimate information in the above distribution.\n",
    "Here, let's say we measuer 50 people's height. (Sample size n = 50)"
   ]
  },
  {
   "cell_type": "code",
   "execution_count": 3,
   "metadata": {},
   "outputs": [
    {
     "name": "stdout",
     "output_type": "stream",
     "text": [
      "50\n",
      "Observed data : \n",
      "[159.86117606 178.11341686 156.4695289  181.8688946  173.60880357\n",
      " 168.2738885  166.57545493 179.3072779  173.80077137 161.67415518\n",
      " 166.08766866 159.5900303  165.14104091 176.87274388 159.13741369\n",
      " 189.28424349 160.1987743  185.66134121 155.02028063 165.87285491\n",
      " 161.00737969 173.57539663 166.2088396  181.43321899 173.34844773\n",
      " 158.83552857 185.45159959 179.50688191 173.97899036 160.8153889\n",
      " 178.89006569 169.23669656 162.4329793  174.01505875 177.42496205\n",
      " 152.36344426 173.66227748 165.33754758 160.07165213 166.60608402\n",
      " 160.91763491 161.42736395 171.82975225 153.08991585 160.41378023\n",
      " 167.34730607 176.65970179 166.52749915 180.5284349  184.18912427]\n"
     ]
    }
   ],
   "source": [
    "# Sample size\n",
    "Sn=50\n",
    "# Data you get \n",
    "Sdata = np.random.normal(Pmean, PSD, Sn)\n",
    "\n",
    "print(Sn)\n",
    "print('Observed data : ')\n",
    "print(Sdata)"
   ]
  },
  {
   "cell_type": "markdown",
   "metadata": {},
   "source": [
    "Compute sample mean, sample standard deviation, and unbiased standard deviation"
   ]
  },
  {
   "cell_type": "code",
   "execution_count": 4,
   "metadata": {},
   "outputs": [
    {
     "name": "stdout",
     "output_type": "stream",
     "text": [
      "Sample mean : 169.19\n",
      "Sample standard deviation : 9.28\n",
      "Unbiased standard deviation : 9.37\n"
     ]
    }
   ],
   "source": [
    "# Sample mean\n",
    "Smean = np.mean(Sdata)\n",
    "\n",
    "print('Sample mean : {:.2f}'.format(Smean))\n",
    "    \n",
    "# Sample standard deviation\n",
    "Sdata_for_var = np.square(Sdata - Smean)\n",
    "Svar = np.sum(Sdata_for_var)/Sn\n",
    "SSD = np.sqrt(Svar)\n",
    "\n",
    "print('Sample standard deviation : {:.2f}'.format(SSD))\n",
    "\n",
    "# Unbiased standard deviation\n",
    "Uvar = np.sum(Sdata_for_var)/(Sn-1)\n",
    "USD = np.sqrt(Uvar)\n",
    "\n",
    "print('Unbiased standard deviation : {:.2f}'.format(USD))"
   ]
  },
  {
   "cell_type": "markdown",
   "metadata": {},
   "source": [
    "# Repeat experiemnt\n",
    "\n",
    "Here, we want to know how sample mean will be distributed.\n",
    "Let's say you repeat this experiment 500 times and get only sample mean for each experiment."
   ]
  },
  {
   "cell_type": "code",
   "execution_count": 5,
   "metadata": {},
   "outputs": [
    {
     "data": {
      "image/png": "[encoded data removed]",
      "text/plain": [
       "<matplotlib.figure.Figure at 0x7f31eabc1588>"
      ]
     },
     "metadata": {
      "needs_background": "light"
     },
     "output_type": "display_data"
    }
   ],
   "source": [
    "# Repetation\n",
    "Rn = 500\n",
    "\n",
    "# Initialise\n",
    "Smeans = np.zeros(Rn)\n",
    "\n",
    "for i in range(0,Rn):\n",
    "    Sdata = np.random.normal(Pmean, PSD, Sn)\n",
    "    Smeans[i] = np.mean(Sdata)\n",
    "\n",
    "hist_Smeans = plt.hist(Smeans)"
   ]
  },
  {
   "cell_type": "code",
   "execution_count": 9,
   "metadata": {},
   "outputs": [
    {
     "ename": "IndexError",
     "evalue": "tuple index out of range",
     "output_type": "error",
     "traceback": [
      "\u001b[0;31m---------------------------------------------------------------------------\u001b[0m",
      "\u001b[0;31mIndexError\u001b[0m                                Traceback (most recent call last)",
      "\u001b[0;32m<ipython-input-9-055a33c7a9aa>\u001b[0m in \u001b[0;36m<module>\u001b[0;34m()\u001b[0m\n\u001b[0;32m----> 1\u001b[0;31m \u001b[0mhist_Smeans\u001b[0m\u001b[0;34m[\u001b[0m\u001b[0;36m3\u001b[0m\u001b[0;34m]\u001b[0m\u001b[0;34m\u001b[0m\u001b[0m\n\u001b[0m",
      "\u001b[0;31mIndexError\u001b[0m: tuple index out of range"
     ]
    }
   ],
   "source": []
  },
  {
   "cell_type": "code",
   "execution_count": null,
   "metadata": {},
   "outputs": [],
   "source": []
  },
  {
   "cell_type": "code",
   "execution_count": null,
   "metadata": {},
   "outputs": [],
   "source": []
  }
 ],
 "metadata": {
  "kernelspec": {
   "display_name": "Python 3",
   "language": "python",
   "name": "python3"
  },
  "language_info": {
   "codemirror_mode": {
    "name": "ipython",
    "version": 3
   },
   "file_extension": ".py",
   "mimetype": "text/x-python",
   "name": "python",
   "nbconvert_exporter": "python",
   "pygments_lexer": "ipython3",
   "version": "3.6.4"
  }
 },
 "nbformat": 4,
 "nbformat_minor": 2
}
